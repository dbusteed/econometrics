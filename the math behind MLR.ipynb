{
 "cells": [
  {
   "cell_type": "markdown",
   "metadata": {},
   "source": [
    "## Introduction\n",
    "\n",
    "The Multiple Linear Regression is defined as \n",
    "\n",
    "$ {y_i} = {\\beta_0} + {\\beta_1}x_{i1} + {\\beta_2}x_{i2} + \\ldots + {\\beta_k}x_{ik} + u_i $\n",
    "\n",
    "This model represents the 'population' we are interested in, where $u_i$ is the error term. We won't be able to know the true values the $\\beta$ parameters, so we will use the following model to 'estimate' these parameters.\n",
    "\n",
    "$ \\hat{y_i} = \\hat{\\beta_0} + \\hat{\\beta_1}x_{i1} + \\hat{\\beta_2}x_{i2} + \\ldots + \\hat{\\beta_k}x_{ik} $\n",
    "\n",
    "Notice that $u_i$ isn't present in this model. The error term is unknown to us during estimation, but can be calculated later as the residual.\n",
    "\n",
    "As it is currently defined, the model inputs have the subscript $i$ to show that a different prediction will be made for each data point. We can visualize the data as every regression from $i$ to $n$.\n",
    "\n",
    "$ \\hat{y_1} = \\hat{\\beta_0} + \\hat{\\beta_1}x_{11} + \\hat{\\beta_2}x_{12} + \\ldots + \\hat{\\beta_k}x_{1k} $\n",
    "\n",
    "$ \\hat{y_2} = \\hat{\\beta_0} + \\hat{\\beta_1}x_{21} + \\hat{\\beta_2}x_{22} + \\ldots + \\hat{\\beta_k}x_{2k} $\n",
    "\n",
    "$ \\vdots $\n",
    "\n",
    "$ \\hat{y_n} = \\hat{\\beta_0} + \\hat{\\beta_1}x_{n1} + \\hat{\\beta_2}x_{n2} + \\ldots + \\hat{\\beta_k}x_{nk} $\n",
    "\n",
    "Because we are attempting to find the different $\\beta$ parameters, we can simplify the above representation with matricies.\n",
    "\n",
    "$ \\hat{Y} = \n",
    "\\begin{bmatrix}\n",
    "    y_1 \\\\\n",
    "    y_2 \\\\\n",
    "    \\vdots \\\\\n",
    "    y_n\n",
    "\\end{bmatrix}  \n",
    "; \\hat{\\beta} = \n",
    "\\begin{bmatrix}\n",
    "    \\beta_0 \\\\\n",
    "    \\beta_1 \\\\\n",
    "    \\vdots \\\\\n",
    "    \\beta_k\n",
    "\\end{bmatrix}\n",
    "; X = \n",
    "\\begin{bmatrix}\n",
    "    1 & x_{11} & x_{12} & \\dots & x_{1k} \\\\\n",
    "    1 & x_{21} & x_{22} & \\dots & x_{2k} \\\\\n",
    "    \\vdots & \\vdots & \\vdots & \\ddots & \\vdots \\\\\n",
    "    1 & x_{n1} & x_{n2} & \\dots & x_{nk} \\\\\n",
    "\\end{bmatrix}\n",
    "$\n",
    "\n",
    "If you are familiar with matrix algebra, you will notice that $\\hat{Y}$ is simply the dot product of $X$ and $\\hat{\\beta}$. Also notice the 1s in the first column of $X$. These are the values that will be mutiplied by the constant $\\hat{\\beta_0}$\n"
   ]
  },
  {
   "cell_type": "markdown",
   "metadata": {},
   "source": [
    "## Derive the estimator for $ \\hat{\\beta} $ by minimizing the sum of square residuals\n",
    "\n",
    "We want to find the matrix of parameters that will minimize the sum of square residuals, or mathematically, we will be finding $ \\min\\sum{\\hat{u_i^2} } $\n",
    "\n",
    "Before we start, we can expand $ \\sum{\\hat{u_i^2}} $ and seperate each $ {u_i}^2 $ into two matricies, allowing us to rewrite the sum of square residuals as $ \\hat{U'}U $, where $U$ is a $(n x 1)$ matrix of residuals.\n",
    "\n",
    "With that taken care of, we can now derive the estimator.\n",
    "\n",
    "$$ \\min{\\hat{U'}U} $$\n",
    "\n",
    "Remember that the residual is defined as $U = Y -\\hat{Y}$ and $\\hat{Y} = X\\hat{\\beta} $, so \n",
    "\n",
    "$$ \\min{ (Y -\\hat{Y})'(Y -\\hat{Y}) } $$\n",
    "\n",
    "$$ \\min{ (Y - X\\hat{\\beta})'(Y - X\\hat{\\beta}) } $$\n",
    "\n",
    "$$ \\min{ Y'Y - Y'X\\hat{\\beta} - (X\\hat{\\beta})'Y } + (X\\hat{\\beta})'X\\hat{\\beta}$$\n",
    "\n",
    "$$ \\min{ Y'Y - Y'X\\hat{\\beta} - \\hat{\\beta}'X'Y } + \\hat{\\beta}'X'X\\hat{\\beta}$$"
   ]
  },
  {
   "cell_type": "code",
   "execution_count": 1,
   "metadata": {},
   "outputs": [],
   "source": [
    "import pandas as pd\n",
    "import numpy as np\n",
    "\n",
    "df = pd.read_csv('WAGE2_SMALL.CSV')"
   ]
  },
  {
   "cell_type": "code",
   "execution_count": 4,
   "metadata": {},
   "outputs": [
    {
     "data": {
      "text/html": [
       "<div>\n",
       "<style scoped>\n",
       "    .dataframe tbody tr th:only-of-type {\n",
       "        vertical-align: middle;\n",
       "    }\n",
       "\n",
       "    .dataframe tbody tr th {\n",
       "        vertical-align: top;\n",
       "    }\n",
       "\n",
       "    .dataframe thead th {\n",
       "        text-align: right;\n",
       "    }\n",
       "</style>\n",
       "<table border=\"1\" class=\"dataframe\">\n",
       "  <thead>\n",
       "    <tr style=\"text-align: right;\">\n",
       "      <th></th>\n",
       "      <th>wage</th>\n",
       "      <th>tenure</th>\n",
       "      <th>IQ</th>\n",
       "      <th>educ</th>\n",
       "    </tr>\n",
       "  </thead>\n",
       "  <tbody>\n",
       "    <tr>\n",
       "      <th>0</th>\n",
       "      <td>769</td>\n",
       "      <td>2</td>\n",
       "      <td>93</td>\n",
       "      <td>12</td>\n",
       "    </tr>\n",
       "    <tr>\n",
       "      <th>1</th>\n",
       "      <td>808</td>\n",
       "      <td>16</td>\n",
       "      <td>119</td>\n",
       "      <td>18</td>\n",
       "    </tr>\n",
       "    <tr>\n",
       "      <th>2</th>\n",
       "      <td>825</td>\n",
       "      <td>9</td>\n",
       "      <td>108</td>\n",
       "      <td>14</td>\n",
       "    </tr>\n",
       "    <tr>\n",
       "      <th>3</th>\n",
       "      <td>650</td>\n",
       "      <td>7</td>\n",
       "      <td>96</td>\n",
       "      <td>12</td>\n",
       "    </tr>\n",
       "    <tr>\n",
       "      <th>4</th>\n",
       "      <td>562</td>\n",
       "      <td>5</td>\n",
       "      <td>74</td>\n",
       "      <td>11</td>\n",
       "    </tr>\n",
       "  </tbody>\n",
       "</table>\n",
       "</div>"
      ],
      "text/plain": [
       "   wage  tenure   IQ  educ\n",
       "0   769       2   93    12\n",
       "1   808      16  119    18\n",
       "2   825       9  108    14\n",
       "3   650       7   96    12\n",
       "4   562       5   74    11"
      ]
     },
     "execution_count": 4,
     "metadata": {},
     "output_type": "execute_result"
    }
   ],
   "source": [
    "df.head(5)"
   ]
  },
  {
   "cell_type": "code",
   "execution_count": 5,
   "metadata": {},
   "outputs": [],
   "source": [
    "Y = np.matrix(df.wage).T\n",
    "X = np.matrix([np.ones(len(df)), df.tenure, df.IQ, df.educ]).T"
   ]
  },
  {
   "cell_type": "code",
   "execution_count": 6,
   "metadata": {},
   "outputs": [
    {
     "data": {
      "text/plain": [
       "matrix([[ 769],\n",
       "        [ 808],\n",
       "        [ 825],\n",
       "        [ 650],\n",
       "        [ 562],\n",
       "        [1400],\n",
       "        [ 600],\n",
       "        [1081],\n",
       "        [1154],\n",
       "        [1000]], dtype=int64)"
      ]
     },
     "execution_count": 6,
     "metadata": {},
     "output_type": "execute_result"
    }
   ],
   "source": [
    "Y[:10]"
   ]
  },
  {
   "cell_type": "code",
   "execution_count": 7,
   "metadata": {},
   "outputs": [
    {
     "data": {
      "text/plain": [
       "matrix([[  1.,   2.,  93.,  12.],\n",
       "        [  1.,  16., 119.,  18.],\n",
       "        [  1.,   9., 108.,  14.],\n",
       "        [  1.,   7.,  96.,  12.],\n",
       "        [  1.,   5.,  74.,  11.],\n",
       "        [  1.,   2., 116.,  16.],\n",
       "        [  1.,   0.,  91.,  10.],\n",
       "        [  1.,  14., 114.,  18.],\n",
       "        [  1.,   1., 111.,  15.],\n",
       "        [  1.,  16.,  95.,  12.]])"
      ]
     },
     "execution_count": 7,
     "metadata": {},
     "output_type": "execute_result"
    }
   ],
   "source": [
    "X[:10]"
   ]
  },
  {
   "cell_type": "code",
   "execution_count": 8,
   "metadata": {},
   "outputs": [],
   "source": [
    "B = (X.T * X).I * X.T * Y"
   ]
  },
  {
   "cell_type": "markdown",
   "metadata": {},
   "source": [
    "Let's look at the results. This matrix contains the parameters for our model. The first parameter is the intercept ($\\hat{\\beta_0}$), the following ones "
   ]
  },
  {
   "cell_type": "code",
   "execution_count": 9,
   "metadata": {},
   "outputs": [
    {
     "data": {
      "text/plain": [
       "matrix([[-199.55416715],\n",
       "        [  10.3007383 ],\n",
       "        [   4.85024855],\n",
       "        [  43.93506431]])"
      ]
     },
     "execution_count": 9,
     "metadata": {},
     "output_type": "execute_result"
    }
   ],
   "source": [
    "B"
   ]
  },
  {
   "cell_type": "code",
   "execution_count": 10,
   "metadata": {},
   "outputs": [],
   "source": [
    "def predict_wage(t, iq, ed):\n",
    "    return float(B[0]) + (float(B[1]) * t) + (float(B[2]) * iq) + (float(B[3]) * ed)"
   ]
  },
  {
   "cell_type": "code",
   "execution_count": 11,
   "metadata": {},
   "outputs": [
    {
     "data": {
      "text/html": [
       "<div>\n",
       "<style scoped>\n",
       "    .dataframe tbody tr th:only-of-type {\n",
       "        vertical-align: middle;\n",
       "    }\n",
       "\n",
       "    .dataframe tbody tr th {\n",
       "        vertical-align: top;\n",
       "    }\n",
       "\n",
       "    .dataframe thead th {\n",
       "        text-align: right;\n",
       "    }\n",
       "</style>\n",
       "<table border=\"1\" class=\"dataframe\">\n",
       "  <thead>\n",
       "    <tr style=\"text-align: right;\">\n",
       "      <th></th>\n",
       "      <th>wage</th>\n",
       "      <th>tenure</th>\n",
       "      <th>IQ</th>\n",
       "      <th>educ</th>\n",
       "    </tr>\n",
       "  </thead>\n",
       "  <tbody>\n",
       "    <tr>\n",
       "      <th>0</th>\n",
       "      <td>769</td>\n",
       "      <td>2</td>\n",
       "      <td>93</td>\n",
       "      <td>12</td>\n",
       "    </tr>\n",
       "  </tbody>\n",
       "</table>\n",
       "</div>"
      ],
      "text/plain": [
       "   wage  tenure  IQ  educ\n",
       "0   769       2  93    12"
      ]
     },
     "execution_count": 11,
     "metadata": {},
     "output_type": "execute_result"
    }
   ],
   "source": [
    "df.head(1)"
   ]
  },
  {
   "cell_type": "code",
   "execution_count": 12,
   "metadata": {},
   "outputs": [
    {
     "data": {
      "text/plain": [
       "799.3411964727363"
      ]
     },
     "execution_count": 12,
     "metadata": {},
     "output_type": "execute_result"
    }
   ],
   "source": [
    "predict_wage(2,93,12)"
   ]
  },
  {
   "cell_type": "code",
   "execution_count": null,
   "metadata": {},
   "outputs": [],
   "source": []
  }
 ],
 "metadata": {
  "kernelspec": {
   "display_name": "Python 3",
   "language": "python",
   "name": "python3"
  },
  "language_info": {
   "codemirror_mode": {
    "name": "ipython",
    "version": 3
   },
   "file_extension": ".py",
   "mimetype": "text/x-python",
   "name": "python",
   "nbconvert_exporter": "python",
   "pygments_lexer": "ipython3",
   "version": "3.7.0"
  }
 },
 "nbformat": 4,
 "nbformat_minor": 2
}
